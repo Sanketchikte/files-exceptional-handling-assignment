{
  "nbformat": 4,
  "nbformat_minor": 0,
  "metadata": {
    "colab": {
      "provenance": []
    },
    "kernelspec": {
      "name": "python3",
      "display_name": "Python 3"
    },
    "language_info": {
      "name": "python"
    }
  },
  "cells": [
    {
      "cell_type": "markdown",
      "source": [
        "**1. What is the difference between interpreted and compiled languages?**\n",
        "\n",
        "**Ans.**\n",
        "\n",
        "**Interpreted Languages:**\n",
        "\n",
        "\n",
        "\n",
        "*   **Execution:** Code is read and executed line by line by an interpreter.\n",
        "\n",
        "*   **Speed:** Generally slower since each line of code is translated on the fly during runtime.\n",
        "*   **Examples:** Python, JavaScript, Ruby.\n",
        "\n",
        "\n",
        "*  **Portability:** More portable as they can run on any system with the appropriate interpreter installed.\n",
        "\n",
        "**Compiled Languages:**\n",
        "\n",
        "\n",
        "\n",
        "*   **Execution:** Code is translated into machine language (binary) by a compiler before execution.\n",
        "\n",
        "*   **Speed:** Generally faster since the entire program is compiled into machine code before running.\n",
        "*   **Examples:** C, C++, Rust.\n",
        "\n",
        "\n",
        "*   **Portability:** Less portable because the compiled code is specific to the target machine's architecture.\n",
        "\n"
      ],
      "metadata": {
        "id": "iCNKxs4OAo0Y"
      }
    },
    {
      "cell_type": "markdown",
      "source": [
        "**2. What is exception handling in Python?**\n",
        "\n",
        "**Ans.**\n",
        "\n",
        "Exception handling in Python is a way to manage errors that occur during program execution. It allows you to respond to different error conditions gracefully rather than letting the program crash. Here’s how it works:\n",
        "\n",
        "\n",
        "\n",
        "1.   **Try Block:** You write code that might cause an error within a try block.\n",
        "\n",
        "2.   **Except Block:** If an error occurs in the try block, the code in the corresponding except block runs. This is where you handle the error.\n",
        "3.   **Else Block:** Code in the else block runs if no exceptions are raised in the try block.\n",
        "\n",
        "\n",
        "4.   **Finally Block:** Code in the finally block runs no matter what, whether an exception occurred or not. It’s often used for cleanup actions like closing files.\n",
        "\n"
      ],
      "metadata": {
        "id": "Y-qnEQUhCRTa"
      }
    },
    {
      "cell_type": "code",
      "source": [
        "try:\n",
        "    result = 10 / 0\n",
        "except ZeroDivisionError:\n",
        "    print(\"You can't divide by zero!\")\n",
        "else:\n",
        "    print(\"Division successful.\")\n",
        "finally:\n",
        "    print(\"This will run no matter what.\")\n"
      ],
      "metadata": {
        "colab": {
          "base_uri": "https://localhost:8080/"
        },
        "id": "-47UDsZyDt7n",
        "outputId": "5724d0f4-f743-437e-f0a6-eecd3a1b3794"
      },
      "execution_count": null,
      "outputs": [
        {
          "output_type": "stream",
          "name": "stdout",
          "text": [
            "You can't divide by zero!\n",
            "This will run no matter what.\n"
          ]
        }
      ]
    },
    {
      "cell_type": "markdown",
      "source": [
        "**3. What is the purpose of the finally block in exception handling?**\n",
        "\n",
        "**Ans.**\n",
        "\n",
        "The finally block in exception handling is used for code that must execute regardless of whether an exception was raised or not. It is typically used for cleanup actions, like closing files, releasing resources, or resetting variables. The code within a finally block always runs after the try and except blocks, ensuring that important cleanup tasks are performed even if an error occurs."
      ],
      "metadata": {
        "id": "-VGb_kc6DMJV"
      }
    },
    {
      "cell_type": "code",
      "execution_count": null,
      "metadata": {
        "colab": {
          "base_uri": "https://localhost:8080/"
        },
        "id": "N9UN66qdAYhe",
        "outputId": "8d80e01b-4a80-43a6-e3a3-906cc52ca0dc"
      },
      "outputs": [
        {
          "output_type": "stream",
          "name": "stdout",
          "text": [
            "File not found.\n",
            "File wasn't opened.\n",
            "Cleanup is done.\n"
          ]
        }
      ],
      "source": [
        "try:\n",
        "    file = open(\"example.txt\", \"r\")\n",
        "    content = file.read()\n",
        "except FileNotFoundError:\n",
        "    print(\"File not found.\")\n",
        "finally:\n",
        "    try:\n",
        "        file.close()\n",
        "    except NameError:\n",
        "        print(\"File wasn't opened.\")\n",
        "    print(\"Cleanup is done.\")\n",
        "\n"
      ]
    },
    {
      "cell_type": "markdown",
      "source": [
        "**4. What is logging in Python?**\n",
        "\n",
        "**Ans.**\n",
        "\n",
        "Logging in Python is a means to track events that happen when some software runs. The logging module allows developers to report the status of the program, output messages for debugging, and provide runtime statistics and error details.\n",
        "\n",
        "1.  **Logging Levels:** Log messages have different importance levels:\n",
        "\n",
        "**DEBUG:** Detailed information for diagnosing problems.\n",
        "\n",
        "**INFO:** General output to confirm the program is working as expected.\n",
        "\n",
        "**WARNING:** An indication of something unexpected or a potential issue.\n",
        "\n",
        "**ERROR:** A serious problem that prevents the program from performing a specific function.\n",
        "\n",
        "**CRITICAL:** A severe error indicating the program may not be able to continue running.\n",
        "\n",
        "2. **Basic Configuration:** To start logging, you can use the basicConfig method to configure the logging:\n",
        "\n",
        "3. **Log Handlers:** Logging can be directed to different outputs, such as the console, files, or even remote servers. Handlers are used to specify where the logs should go.\n",
        "\n",
        "4. **Custom Loggers:** You can create custom loggers for different parts of your application to manage log messages more effectively."
      ],
      "metadata": {
        "id": "Vdu0SUpoELHR"
      }
    },
    {
      "cell_type": "markdown",
      "source": [
        "**5.  What is the significance of the __del__ method in Python?**\n",
        "\n",
        "**Ans.**\n",
        "\n",
        "The __del__ method in Python is a special method called a destructor. It is invoked when an object is about to be destroyed and is primarily used for cleanup purposes, such as releasing resources or performing other necessary finalization tasks.\n",
        "\n",
        "\n",
        "\n",
        "1.   **Resource Management:** The __del__ method can be used to ensure resources like file handles, network connections, or database connections are properly closed or released.\n",
        "\n",
        "2.   **Custom Cleanup:** You can define custom cleanup actions that should occur when an object is no longer needed. For example, if an object allocates memory or uses other resources, you can use __del__ to free those resources.\n",
        "3.  **Garbage Collection:** While Python’s garbage collector handles most memory management automatically, the __del__ method allows you to perform additional cleanup if needed.\n",
        "\n",
        "\n",
        "\n",
        "\n"
      ],
      "metadata": {
        "id": "UjXBMvLoFVpG"
      }
    },
    {
      "cell_type": "markdown",
      "source": [
        "**6.  What is the difference between import and from ... import in Python?**\n",
        "\n",
        "**Ans.**\n",
        "\n",
        "\n",
        "\n",
        "*  **import**\n",
        "\n",
        "This statement imports an entire module and requires you to reference the module name when accessing its functions, classes, or variables.\n",
        "\n",
        "*   **from ... import**\n",
        "\n",
        "This statement imports specific attributes (functions, classes, or variables) from a module directly into the current namespace, allowing you to use them without the module name.\n",
        "\n",
        "**Key Differences:**\n",
        "\n",
        "\n",
        "\n",
        "1.  ** Namespace:**\n",
        "\n",
        "*   **import:** Keeps the module's namespace, requiring you to use the module name to access its contents.\n",
        "*   **from ... import:** Imports specific attributes into the current namespace, so you don't need the module name.\n",
        "\n",
        "\n",
        "2.   **Clarity:**\n",
        "\n",
        "* import: Makes it clear where functions and classes are coming from.\n",
        "\n",
        "* from ... import: Can make code cleaner and more concise, but overuse might\n",
        "\n",
        "\n",
        "3.  **Importing Everything:**\n",
        "\n",
        "* You can import all attributes from a module using from module import *. However, this is generally discouraged as it can clutter the namespace and lead to conflicts or confusion.\n"
      ],
      "metadata": {
        "id": "cHyHaFBnGJDx"
      }
    },
    {
      "cell_type": "markdown",
      "source": [
        "**7. How can you handle multiple exceptions in Python?**\n",
        "\n",
        "**Ans.**\n",
        "\n",
        "**Using a single except clause**\n",
        " A single except clause to catch multiple exceptions by specifying them as a tuple in parentheses. This is useful when different exceptions require similar handling logic.\n",
        "\n",
        "**Using multiple except blocks**\n",
        " Multiple except blocks to catch multiple specific exceptions, with each block handling a different type of exception.\n",
        "\n",
        "**Using the finally statement**\n",
        " The finally statement to ensure cleanup, such as closing a file, even if an exception is raised. The finally statement is essential for resource management\n"
      ],
      "metadata": {
        "id": "qgeEph16HzPj"
      }
    },
    {
      "cell_type": "code",
      "source": [
        "try:\n",
        "    # Code that may raise multiple exceptions\n",
        "    result = 10 / 0\n",
        "    file = open(\"non_existent_file.txt\", \"r\")\n",
        "except Exception as e:\n",
        "    print(f\"An unexpected error occurred: {e}\")\n"
      ],
      "metadata": {
        "colab": {
          "base_uri": "https://localhost:8080/"
        },
        "id": "uqOHJn5RDztg",
        "outputId": "f46d1037-44fc-4235-87b6-e295f6158a91"
      },
      "execution_count": null,
      "outputs": [
        {
          "output_type": "stream",
          "name": "stdout",
          "text": [
            "An unexpected error occurred: division by zero\n"
          ]
        }
      ]
    },
    {
      "cell_type": "markdown",
      "source": [
        "**8.  What is the purpose of the with statement when handling files in Python?**\n",
        "\n",
        "**Ans.**\n",
        "\n",
        "The with statement in Python is used to handle files (and other resources) more efficiently and safely. It provides a way to ensure that resources are properly managed and cleaned up, even if an error occurs. When handling files, the with statement automatically takes care of closing the file after its suite finishes, making the code cleaner and more concise.\n",
        "\n",
        "**Key Benefits of the with Statement:**\n",
        "\n",
        "\n",
        "\n",
        "1.   **Automatic Resource Management:** It ensures that the file is properly closed after its suite finishes, even if an exception occurs. This helps to prevent resource leaks and other potential issues.\n",
        "\n",
        "2.  **Cleaner Code:** The with statement makes the code more readable and concise by removing the need for explicit try/finally blocks to close the file.\n",
        "\n",
        "3.   **Error Handling:** It simplifies error handling by ensuring the file is properly closed, regardless of how the block is exited.\n",
        "\n"
      ],
      "metadata": {
        "id": "zEO7cc_1KL1T"
      }
    },
    {
      "cell_type": "markdown",
      "source": [
        "**9. What is the difference between multithreading and multiprocessing?**\n",
        "\n",
        "**Ans.**\n",
        "\n",
        "Multithreading and multiprocessing are both techniques used to achieve concurrency, but they have different approaches and are suited for different types of tasks. Here's a breakdown of their differences:\n",
        "\n",
        "* **Multithreading**\n",
        "\n",
        "**Definition:** Multithreading involves creating multiple threads within the same process. Each thread runs independently but shares the same memory space.\n",
        "\n",
        "**Use Case:** Suitable for I/O-bound tasks, such as reading/writing files, making network requests, or handling user interfaces, where the program spends a lot of time waiting for external events.\n",
        "\n",
        "**Performance:** Can improve performance in I/O-bound tasks since threads can be executed concurrently, allowing the program to remain responsive.\n",
        "\n",
        "**Memory:** Since threads share the same memory space, they use less memory compared to separate processes.\n",
        "\n",
        "**Global Interpreter Lock (GIL):** In CPython (the standard Python implementation), the GIL can be a limitation for CPU-bound tasks, as it allows only one thread to execute Python bytecode at a time.\n",
        "\n",
        "* **Multiprocessing**\n",
        "\n",
        "**Definition:** Multiprocessing involves creating multiple processes, each with its own memory space. Each process runs independently and concurrently.\n",
        "\n",
        "**Use Case:** Suitable for CPU-bound tasks, such as heavy computations or data processing, where tasks require significant processing power.\n",
        "\n",
        "**Performance:** Can significantly improve performance for CPU-bound tasks since each process runs in its own memory space and can fully utilize multiple CPU cores.\n",
        "\n",
        "**Memory:** Each process has its own memory space, which means more memory is used compared to threads.\n",
        "\n",
        "**Global Interpreter Lock (GIL):** Multiprocessing bypasses the GIL, allowing for true parallel execution of tasks in Python, making it ideal for CPU-bound tasks.\n",
        "\n",
        "* **Key Differences**\n",
        "\n",
        "\n",
        "\n",
        "1.   **Concurrency Model:**\n",
        "\n",
        "* Multithreading: Concurrency is achieved by running multiple threads within the same process.\n",
        "\n",
        "* Multiprocessing: Concurrency is achieved by running multiple processes, each with its own memory space.\n",
        "2.   **Memory Usage:**\n",
        "\n",
        "* Multithreading: Threads share the same memory space, resulting in lower memory usage.\n",
        "\n",
        "* Multiprocessing: Processes have separate memory spaces, resulting in higher memory usage.\n",
        "\n",
        "3.  **GIL:**\n",
        "\n",
        "* Multithreading: Affected by the GIL in CPython, which can limit true parallel execution for CPU-bound tasks.\n",
        "\n",
        "* Multiprocessing: Not affected by the GIL, allowing for true parallel execution."
      ],
      "metadata": {
        "id": "2auwZHJrLUps"
      }
    },
    {
      "cell_type": "markdown",
      "source": [
        "**10. What are the advantages of using logging in a program?**\n",
        "\n",
        "**Ans.**\n",
        "\n",
        "Using logging in a program offers several significant advantages, enhancing both the development process and the application's reliability.\n",
        "\n",
        "\n",
        "1.  **Troubleshooting and Debugging**\n",
        "\n",
        "* Error Identification: Logs help identify where and when errors occur, making it easier to debug issues.\n",
        "\n",
        "* Detailed Information: Provides detailed context about the application's state when an error occurred, helping to pinpoint the root cause.\n",
        "\n",
        "2.  **Monitoring and Maintenance**\n",
        "\n",
        "* Performance Monitoring: Logs can include performance metrics, helping to identify bottlenecks and optimize the application.\n",
        "\n",
        "* Usage Tracking: Tracks how users interact with the application, which can inform future improvements and feature additions.\n",
        "\n",
        "3.   **Security and Compliance**\n",
        "\n",
        "* Audit Trails: Maintains a record of activities, which is essential for security audits and compliance with regulatory requirements.\n",
        "\n",
        "* Intrusion Detection: Logs can reveal unauthorized access attempts and other security breaches.\n",
        "4.   **Communication**\n",
        "\n",
        "* User Feedback: Logs can capture user-reported issues and feedback, providing valuable insights for developers.\n",
        "\n",
        "* Team Collaboration: Shared logs enable team members to collaborate more effectively by having a common source of information.\n",
        "5.   **Automated Alerting and Monitoring**\n",
        "\n",
        "* Real-time Alerts: Integrated with monitoring systems, logs can trigger alerts for specific conditions, enabling prompt responses to critical issues.\n",
        "\n",
        "* Proactive Maintenance: Helps detect and resolve issues before they impact users, enhancing the application's reliability.\n",
        "6.   **Historical Analysis**\n",
        "\n",
        "* Trend Analysis: Logs provide historical data that can be analyzed to identify trends and patterns, which can inform long-term strategies.\n",
        "\n",
        "* Problem Recurrence: Helps detect recurring issues and implement permanent fixes.\n",
        "\n",
        "7.   **Documentation**\n",
        "\n",
        "* System Documentation: Serves as a form of documentation, capturing the application's behavior and events over time.\n",
        "\n",
        "* Change Tracking: Logs can capture changes in the system, such as configuration updates and code changes, aiding in version control and change management\n"
      ],
      "metadata": {
        "id": "LBwv3YeVNf_k"
      }
    },
    {
      "cell_type": "markdown",
      "source": [
        "**11. What is memory management in Python?**\n",
        "\n",
        "**Ans.**\n",
        "\n",
        "Memory management in Python involves the process of allocating and deallocating memory to ensure efficient use of resources while running Python programs.\n",
        "\n",
        "\n",
        "\n",
        "1.   **Garbage Collection:** Python uses automatic garbage collection to manage memory. This means it automatically detects and frees up memory that's no longer in use by the program. Python has a built-in garbage collector that handles this task.\n",
        "\n",
        "2.   **Reference Counting:** One of the primary methods Python uses for memory management is reference counting. Every object in Python maintains a count of the references pointing to it. When an object's reference count drops to zero, the memory occupied by that object is immediately deallocated.\n",
        "\n",
        "3.   **Dynamic Typing:** Python is dynamically typed, which means variables can change types during execution. This flexibility is managed by Python's memory management system, which handles the allocation and deallocation of memory for different data types.\n",
        "4.   **Memory Pooling:** To improve performance, Python uses memory pooling for small objects. Instead of repeatedly allocating and deallocating memory for small objects, Python maintains pools of memory blocks for reuse, which reduces fragmentation and increases efficiency.\n",
        "\n",
        "\n",
        "5.   **PyMalloc:** Python's specialized memory allocator, PyMalloc, is designed for fast allocation and deallocation of memory for Python objects. It's particularly efficient for small memory blocks.\n",
        "\n",
        "\n",
        "6.   **Large Objects:** For larger objects, Python uses the memory allocator provided by the underlying operating system.\n",
        "\n"
      ],
      "metadata": {
        "id": "c_kCo5b1sDRl"
      }
    },
    {
      "cell_type": "markdown",
      "source": [
        "**12. What are the basic steps involved in exception handling in Python?**\n",
        "\n",
        "**Ans.**\n",
        "\n",
        "Handling exceptions in Python involves using the try, except, else, and finally blocks.\n",
        "\n",
        "\n",
        "\n",
        "1.   **Try Block:** Enclose the code that might cause an exception within a try block.\n",
        "2.   **Except Block:** Follow the try block with one or more except blocks to catch specific exceptions and handle them.\n",
        "\n",
        "\n",
        "\n",
        "3.   **Else Block (Optional):** This block executes if no exceptions are raised in the try block.\n",
        "4.   **Finally Block (Optional):** The finally block executes regardless of whether an exception was raised or not, making it useful for cleanup actions.\n",
        "\n"
      ],
      "metadata": {
        "id": "xLH0tzDFuIE_"
      }
    },
    {
      "cell_type": "markdown",
      "source": [
        "**13. Why is memory management important in Python?**\n",
        "\n",
        "**Ans.**\n",
        "\n",
        "Memory management is crucial in Python for several reasons:\n",
        "\n",
        "**Efficient Resource Utilization:** Proper memory management ensures that the limited memory resources of a system are utilized efficiently, preventing memory leaks and excessive memory usage.\n",
        "\n",
        "**Performance Optimization:** Efficient memory management improves the performance of Python programs by reducing the overhead associated with memory allocation and deallocation.\n",
        "\n",
        "**Automatic Garbage Collection:** Python has an automatic garbage collector that reclaims memory by deleting objects that are no longer needed. Understanding how this works can help you write more efficient code.\n",
        "\n",
        "**Avoiding Memory Leaks:** Poor memory management can lead to memory leaks, where memory that is no longer needed is not released. This can cause your program to consume more memory over time, eventually leading to performance degradation or crashes.\n",
        "\n",
        "**Resource Management:** Proper memory management helps in the effective management of resources such as file handles, database connections, and network sockets, ensuring they are released when no longer needed."
      ],
      "metadata": {
        "id": "saQkCT-gWAAy"
      }
    },
    {
      "cell_type": "markdown",
      "source": [
        "**14. What is the role of try and except in exception handling?**\n",
        "\n",
        "**Ans.**\n",
        "\n",
        "The try and except blocks are fundamental components in Python's exception handling mechanism.\n",
        "\n",
        "\n",
        "\n",
        "1.   **try Block:** The code that might raise an exception is placed inside the try block. If an exception occurs, the normal flow of the program is interrupted, and Python looks for an except block to handle the exception.\n",
        "2.   **except Block:** The except block defines how to handle specific exceptions. If an exception occurs in the try block, the except block is executed to handle the error. You can catch specific exceptions by name or catch all exceptions using a generic except block.\n",
        "\n"
      ],
      "metadata": {
        "id": "B8RkW6-_WHI0"
      }
    },
    {
      "cell_type": "markdown",
      "source": [
        "**15. How does Python's garbage collection system work?**\n",
        "\n",
        "**Ans.**\n",
        "\n",
        "Python's garbage collection system is designed to automatically manage memory by reclaiming memory that is no longer in use.\n",
        "\n",
        "\n",
        "\n",
        "1.  ** Reference Counting:** Each object in Python maintains a reference count, which keeps track of how many references point to the object. When the reference count drops to zero, the object is considered garbage and is immediately deallocated.\n",
        "\n",
        "2.   **Garbage Collection:** While reference counting is effective, it can't handle cyclic references (e.g., objects referring to each other). To manage this, Python includes a cyclic garbage collector that identifies and collects objects involved in reference cycles.\n",
        "3.   **Generational GC:** Python’s garbage collector operates based on a generational approach, which divides objects into three generations:\n",
        "\n",
        "* Generation 0: Newly created objects.\n",
        "\n",
        "* Generation 1: Objects that have survived one collection cycle.\n",
        "\n",
        "* Generation 2: Long-lived objects.\n",
        "\n",
        "Objects that survive a collection are promoted to the next generation, under the assumption that older objects are less likely to become garbage.\n",
        "\n",
        "4.   **Garbage Collection Triggers:** The garbage collector is triggered when the number of allocations minus the number of deallocations exceeds a certain threshold for a generation. You can also manually trigger garbage collection using the gc module.\n",
        "\n"
      ],
      "metadata": {
        "id": "cE2RBO0DWOwj"
      }
    },
    {
      "cell_type": "markdown",
      "source": [
        "**16. What is the purpose of the else block in exception handling?**\n",
        "\n",
        "**Ans.**\n",
        "\n",
        "The else block in Python's exception handling structure is executed only if the code within the try block completes without raising an exception. It helps to separate the code that should run only if there are no exceptions from the exception handling code.\n",
        "\n",
        "\n",
        "\n",
        "1.  **Clarifies Intent:** By using an else block, you make it clear that the code inside it should run only if the try block doesn't raise any exceptions. This separation improves code readability and maintainability.\n",
        "2.   **Ensures Conditional Execution:** It ensures that certain actions are taken only when the try block succeeds, without putting those actions in the try block itself, which could potentially catch and handle exceptions unintentionally.\n",
        "\n"
      ],
      "metadata": {
        "id": "BONKLeF3Y0mt"
      }
    },
    {
      "cell_type": "markdown",
      "source": [
        "**17. What are the common logging levels in Python?**\n",
        "\n",
        "**Ans.**\n",
        "\n",
        "In Python, logging levels provide a way to categorize and filter log messages based on their severity or importance. The logging module in Python defines the following common logging levels:\n",
        "\n",
        "\n",
        "\n",
        "1.   **DEBUG:** Detailed information, typically of interest only when diagnosing problems. It's the lowest level and captures everything.\n",
        "\n",
        "2.   **INFO:** Confirmation that things are working as expected. It's generally used for regular operational messages.\n",
        "3.   **WARNING:** An indication that something unexpected happened or indicative of some problem in the near future (e.g., ‘disk space low’). The software is still functioning as expected.\n",
        "\n",
        "\n",
        "4.   **ERROR:** A more serious problem, the software has not been able to perform some function.\n",
        "\n",
        "\n",
        "\n",
        "5.   **CRITICAL:** A very serious error, indicating that the program itself may be unable to continue running.\n",
        "\n",
        "\n"
      ],
      "metadata": {
        "id": "7cx8y5Y2Y9yH"
      }
    },
    {
      "cell_type": "markdown",
      "source": [
        "**18. What is the difference between os.fork() and multiprocessing in Python?**\n",
        "\n",
        "**Ans.**\n",
        "\n",
        "Great question! os.fork() and the multiprocessing module in Python both offer ways to create new processes, but they have different use cases and characteristics.\n",
        "\n",
        "\n",
        "\n",
        "1.   os.fork():\n",
        "\n",
        "* **Description:** os.fork() is a low-level system call available on Unix-like operating systems (e.g., Linux, macOS). It creates a child process that is a duplicate of the parent process.\n",
        "\n",
        "* **Use Case:** It's useful for simple tasks where you need to create a new process and perform some task in parallel. It’s often used in server environments and low-level programming.\n",
        "\n",
        "* **Limitations:** os.fork() is not available on Windows, and it doesn't handle more complex scenarios like passing data between processes or managing multiple processes easily.\n",
        "2.   **multiprocessing**\n",
        "\n",
        "* **Description:** The multiprocessing module is a higher-level module available in Python's standard library. It provides a rich API for creating and managing multiple processes.\n",
        "\n",
        "* **Use Case:** It’s suitable for complex tasks involving multiple processes, data sharing between processes, and process synchronization. It works on all major platforms, including Windows.\n",
        "\n",
        "* **Features:** multiprocessing offers various features like process pools, inter-process communication (IPC), and synchronization primitives (locks, semaphores).\n",
        "\n"
      ],
      "metadata": {
        "id": "WjLio4AtZGo1"
      }
    },
    {
      "cell_type": "markdown",
      "source": [
        "**19. What is the importance of closing a file in Python?**\n",
        "\n",
        "**Ans.**\n",
        "\n",
        "\n",
        "\n",
        "1.  **Resource Management:** When you open a file, the operating system allocates resources to handle the file operations. Closing the file releases these resources, ensuring they are available for other processes and preventing resource leaks.\n",
        "\n",
        "2.   **Data Integrity:** Closing a file ensures that all data is properly written to the file and any buffers are flushed. This is crucial for data integrity, as it guarantees that all changes are saved before the file is closed.\n",
        "3.   **Avoiding Limits:** Operating systems typically impose limits on the number of files that can be open simultaneously. Closing files that are no longer needed helps you stay within these limits and avoid running into errors.\n",
        "\n",
        "\n",
        "4.  **File Locking:** Some file systems lock files when they are opened to prevent concurrent modifications. Closing the file releases the lock, allowing other processes to access and modify the file.\n",
        "\n"
      ],
      "metadata": {
        "id": "0OK_SPG-ZODJ"
      }
    },
    {
      "cell_type": "markdown",
      "source": [
        "**20. What is the difference between file.read() and file.readline() in Python?**\n",
        "\n",
        "**Ans.**\n",
        "\n",
        "The file.read() and file.readline() methods in Python are used to read data from a file, but they differ in how they read the content.\n",
        "\n",
        "\n",
        "\n",
        "1.  ** file.read():**\n",
        "\n",
        "* **Description:** Reads the entire content of the file (or a specified number of characters) as a single string.\n",
        "\n",
        "* **Usage:** It's useful when you want to read the whole file at once or a specific number of characters.\n",
        "2.   **file.readline():**\n",
        "\n",
        "* **Description:** Reads a single line from the file, including the newline character at the end.\n",
        "\n",
        "* **Usage:** It's useful when you want to read the file line by line, especially for large files where reading the entire content at once is impractical.\n",
        "\n",
        "**Here's a side-by-side comparison:**\n",
        "\n",
        "* **file.read():**\n",
        "\n",
        "* Reads the entire file or a specific number of characters at once.\n",
        "\n",
        "* Useful for processing the entire content at once.\n",
        "\n",
        "* **file.readline():**\n",
        "\n",
        "* Reads one line at a time.\n",
        "\n",
        "* Useful for processing large files line by line."
      ],
      "metadata": {
        "id": "OMJtj_WWZRH0"
      }
    },
    {
      "cell_type": "markdown",
      "source": [
        "**21. What is the logging module in Python used for?**\n",
        "\n",
        "**Ans.**\n",
        "\n",
        "The logging module in Python is a powerful and flexible system used for tracking events that happen while software runs.\n",
        "\n",
        "\n",
        "\n",
        "1.   **Recording Events:** It allows developers to record events such as errors, warnings, informational messages, and debugging details. This is crucial for understanding the state of an application at any point in time.\n",
        "\n",
        "2.  **Diagnosing Issues:** By examining log messages, developers can diagnose and troubleshoot issues. Logs provide a history of events leading up to a problem, making it easier to identify and fix bugs.\n",
        "\n",
        "3.   **Monitoring Application Behavior:** Logging helps in monitoring the behavior of an application, especially in production environments. It provides insights into how the application is being used and identifies any unusual activity.\n",
        "4.  ** Centralized Logging:** The logging module supports logging to various destinations, such as the console, files, and even remote servers. This helps in centralizing logs from multiple parts of an application or even multiple applications.\n",
        "\n",
        "\n",
        "5.  ** Configurable Levels:** It offers configurable logging levels (DEBUG, INFO, WARNING, ERROR, and CRITICAL) to control the verbosity of logs. This allows filtering log messages based on their importance.\n",
        "\n",
        "\n",
        "6.  **Custom Handlers and Formatters:** The module supports custom handlers and formatters to direct log messages to different outputs and format them as needed. This provides great flexibility in how logs are recorded and presented.\n",
        "\n"
      ],
      "metadata": {
        "id": "Jl8uwgysZWO9"
      }
    },
    {
      "cell_type": "markdown",
      "source": [
        "**22. What is the os module in Python used for in file handling?**\n",
        "\n",
        "**Ans.**\n",
        "\n",
        "The os module in Python provides a way to interact with the operating system and perform various file-handling operations.\n",
        "\n",
        "\n",
        "\n",
        "1.  ** File and Directory Operations:**\n",
        "\n",
        "* **Creating Directories:** os.mkdir(path) creates a new directory at the specified path.\n",
        "\n",
        "* **Removing Directories:** os.rmdir(path) removes an empty directory.\n",
        "\n",
        "* **Listing Directory Contents:** os.listdir(path) returns a list of entries in the specified directory.\n",
        "\n",
        "* **Creating Nested Directories:** os.makedirs(path) creates directories recursively.\n",
        "2.  **File Operations:**\n",
        "\n",
        "* **Renaming Files:** os.rename(src, dst) renames a file or directory from src to dst.\n",
        "\n",
        "* **Removing Files:** os.remove(path) removes a file.\n",
        "\n",
        "3. **Path Operations:**\n",
        "\n",
        "* **Joining Paths:** os.path.join(path, *paths) joins one or more path components intelligently.\n",
        "\n",
        "* **Checking Path Existence:** os.path.exists(path) checks if"
      ],
      "metadata": {
        "id": "DIOJKWC4ZcIw"
      }
    },
    {
      "cell_type": "markdown",
      "source": [
        "**23. What are the challenges associated with memory management in Python?**\n",
        "\n",
        "**Ans.**\n",
        "\n",
        "Memory management in Python involves a variety of challenges, primarily due to its use of automatic memory management and garbage collection. Here are a few key challenges:\n",
        "\n",
        "\n",
        "\n",
        "1.  **Garbage Collection:** While Python's garbage collector (GC) helps manage memory by removing unused objects, it doesn't eliminate all issues. Circular references can cause memory leaks if the garbage collector doesn't handle them properly.\n",
        "\n",
        "2.   **Fragmentation:** Memory fragmentation can occur when there's a lot of allocation and deallocation of memory. This can lead to inefficient use of memory and potentially cause the program to use more memory than necessary.\n",
        "\n",
        "3.   **Reference Counting:** Python uses reference counting for memory management, where each object has a reference count that tracks the number of references to it. This can cause problems if circular references exist, as they won't be collected by the garbage collector, leading to memory leaks.\n",
        "4.  ** Memory Overhead:** Python objects often have additional memory overhead due to internal bookkeeping. This can lead to higher memory usage compared to languages with more explicit memory management.\n",
        "\n",
        "\n",
        "5.   **Performance Trade-offs:** Balancing memory usage and performance can be tricky. For instance, using too many objects or large data structures can increase memory consumption and slow down performance, while overly aggressive memory optimization can lead to complex code that's harder to maintain.\n",
        "\n",
        "\n",
        "6.   **Global Interpreter Lock (GIL):** Python's GIL can sometimes complicate memory management in multi-threaded applications. It can lead to performance bottlenecks and make it harder to manage memory efficiently in concurrent environments.\n",
        "\n"
      ],
      "metadata": {
        "id": "R_9cl0AzZh35"
      }
    },
    {
      "cell_type": "markdown",
      "source": [
        "**24. How do you raise an exception manually in Python?**\n",
        "\n",
        "**Ans.**\n",
        "\n",
        "In Python, manually raise exceptions using the raise statement. This allows you to trigger an exception at a specific point in your code."
      ],
      "metadata": {
        "id": "Yq0aXHTuZnzH"
      }
    },
    {
      "cell_type": "markdown",
      "source": [
        "**25. Why is it important to use multithreading in certain applications?**\n",
        "\n",
        "**Ans.**\n",
        "\n",
        "Multithreading can be a game-changer in many applications, helping you make the most out of your system's resources and improving performance. Here are a few reasons why it's important:\n",
        "\n",
        "\n",
        "\n",
        "1.   **Concurrency:** Multithreading allows an application to perform multiple operations at the same time, rather than sequentially. This can be particularly useful for tasks that involve I/O operations, such as reading from or writing to a file, network communication, or handling user input.\n",
        "\n",
        "2.   **Responsiveness:** In applications with a user interface, multithreading can help keep the UI responsive. For instance, one thread can handle the UI, while another handles time-consuming tasks in the background, preventing the UI from freezing.\n",
        "\n",
        "3.  **Efficiency:** For computational tasks that can be parallelized, multithreading can significantly reduce processing time. By dividing a task into smaller sub-tasks that can run concurrently, you can leverage multiple CPU cores to work on these tasks simultaneously.\n",
        "4.   **Resource Utilization:** Multithreading can help you better utilize the system's resources. For example, while one thread waits for a file to download, another thread can process already downloaded data, ensuring that CPU and I/O resources are used more effectively.\n",
        "\n",
        "\n",
        "5.   **Scalability:** In server applications, multithreading allows you to handle multiple client requests simultaneously. This can help you build scalable and efficient server-side applications that can manage a large number of concurrent connections.\n",
        "\n"
      ],
      "metadata": {
        "id": "HrFmTpvzZy24"
      }
    },
    {
      "cell_type": "markdown",
      "source": [
        "# Practical Questions"
      ],
      "metadata": {
        "id": "lvRp2zz6jGI4"
      }
    },
    {
      "cell_type": "markdown",
      "source": [
        "**1. How can you open a file for writing in Python and write a string to it?**\n",
        "\n",
        "**Ans.**\n",
        "\n",
        "Opening a file for writing in Python is quite straightforward. use the open() function with the 'w' mode, which stands for \"write.\" Once the file is open, use the write() method to write a string to it."
      ],
      "metadata": {
        "id": "5PLsGThVjLbR"
      }
    },
    {
      "cell_type": "code",
      "source": [
        "# Open the file in write mode\n",
        "with open('example.txt', 'w') as file:\n",
        "    # Write a string to the file\n",
        "    file.write('Hello, World!')\n",
        "\n",
        "# Open the file in read mode to check the content\n",
        "with open('example.txt', 'r') as file:\n",
        "    content = file.read()\n",
        "    print(content)\n"
      ],
      "metadata": {
        "id": "JTc7zOwcJ602",
        "colab": {
          "base_uri": "https://localhost:8080/"
        },
        "outputId": "0efaf3bd-b46c-45be-c32e-a4fbdcb5e192"
      },
      "execution_count": null,
      "outputs": [
        {
          "output_type": "stream",
          "name": "stdout",
          "text": [
            "Hello, World!\n"
          ]
        }
      ]
    },
    {
      "cell_type": "markdown",
      "source": [
        "**2. Write a Python program to read the contents of a file and print each line.**\n",
        "\n",
        "**Ans.**\n",
        "\n"
      ],
      "metadata": {
        "id": "aoZh3VrklFC2"
      }
    },
    {
      "cell_type": "code",
      "source": [
        "# Open the file in read mode\n",
        "with open('example.txt', 'r') as file:\n",
        "    # Read and print each line\n",
        "    for line in file:\n",
        "        print(line, end='')\n",
        "\n",
        "# The file is automatically closed when the block is exited\n"
      ],
      "metadata": {
        "id": "xv93iWd6LOEp",
        "colab": {
          "base_uri": "https://localhost:8080/"
        },
        "outputId": "211954eb-ed51-4415-dabe-516db231634a"
      },
      "execution_count": null,
      "outputs": [
        {
          "output_type": "stream",
          "name": "stdout",
          "text": [
            "Hello, World!"
          ]
        }
      ]
    },
    {
      "cell_type": "markdown",
      "source": [
        "**3. How would you handle a case where the file doesn't exist while trying to open it for reading?**\n",
        "\n",
        "**Ans.**\n",
        "\n",
        "* The try block attempts to open the file non_existent_file.txt in read mode.\n",
        "\n",
        "* If the file doesn't exist, a FileNotFoundError exception is raised.\n",
        "\n",
        "* The except block catches the exception and prints an error message to the console, informing the user that the file doesn't exist."
      ],
      "metadata": {
        "id": "J_lj-6Lolm6y"
      }
    },
    {
      "cell_type": "code",
      "source": [
        "file_path = 'non_existent_file.txt'\n",
        "\n",
        "try:\n",
        "    with open(file_path, 'r') as file:\n",
        "        for line in file:\n",
        "            print(line, end='')\n",
        "except FileNotFoundError:\n",
        "    print(f\"The file '{file_path}' does not exist. Please check the file path and try again.\")\n"
      ],
      "metadata": {
        "colab": {
          "base_uri": "https://localhost:8080/"
        },
        "id": "n88rX6xzlYmq",
        "outputId": "5a77d8ec-f714-4adb-9f1e-21bc44a92af9"
      },
      "execution_count": null,
      "outputs": [
        {
          "output_type": "stream",
          "name": "stdout",
          "text": [
            "The file 'non_existent_file.txt' does not exist. Please check the file path and try again.\n"
          ]
        }
      ]
    },
    {
      "cell_type": "markdown",
      "source": [
        "**4. Write a Python script that reads from one file and writes its content to another file.**\n",
        "\n",
        "**Ans.**\n",
        "\n",
        "* The copy_file_content function takes two arguments: source_file and destination_file.\n",
        "\n",
        "* It opens the source file in read mode and the destination file in write mode using with statements to ensure proper closing of files.\n",
        "\n",
        "* It reads each line from the source file and writes it to the destination file.\n",
        "\n",
        "* If the source file does not exist, it catches the FileNotFoundError and prints an error message."
      ],
      "metadata": {
        "id": "Q4HSBlf8mYsL"
      }
    },
    {
      "cell_type": "code",
      "source": [
        "def copy_file_content(source_file, destination_file):\n",
        "    try:\n",
        "        # Open the source file in read mode\n",
        "        with open(source_file, 'r') as src:\n",
        "            # Open the destination file in write mode\n",
        "            with open(destination_file, 'w') as dest:\n",
        "                # Read content from source and write to destination\n",
        "                for line in src:\n",
        "                    dest.write(line)\n",
        "        print(f\"Content successfully copied from {source_file} to {destination_file}.\")\n",
        "    except FileNotFoundError as e:\n",
        "        print(f\"Error: {e}\")\n",
        "\n",
        "# Example usage\n",
        "source_file = 'source.txt'\n",
        "destination_file = 'destination.txt'\n",
        "copy_file_content(source_file, destination_file)\n"
      ],
      "metadata": {
        "colab": {
          "base_uri": "https://localhost:8080/"
        },
        "id": "yVrD41GZmT06",
        "outputId": "cc7a8dbb-4089-4261-cf78-0264296dab61"
      },
      "execution_count": null,
      "outputs": [
        {
          "output_type": "stream",
          "name": "stdout",
          "text": [
            "Error: [Errno 2] No such file or directory: 'source.txt'\n"
          ]
        }
      ]
    },
    {
      "cell_type": "markdown",
      "source": [
        "**5. How would you catch and handle division by zero error in Python?**\n",
        "\n",
        "**Ans.**\n",
        "To catch and handle a division by zero error in Python, you can use a try-except block to catch the ZeroDivisionError exception. This allows you to handle the error gracefully and provide an appropriate response or action. Here's an example:\n",
        "\n",
        "* The safe_divide function takes two arguments, a and b.\n",
        "\n",
        "* The try block attempts to perform the division a / b.\n",
        "\n",
        "* If a ZeroDivisionError exception is raised (i.e., if b is zero), the except block catches the exception and prints an error message.\n",
        "\n",
        "* The function returns None if a division by zero occurs, indicating that the operation was not successful."
      ],
      "metadata": {
        "id": "qU8TYEpMnJta"
      }
    },
    {
      "cell_type": "code",
      "source": [
        "def safe_divide(a, b):\n",
        "    try:\n",
        "        result = a / b\n",
        "    except ZeroDivisionError:\n",
        "        print(\"Error: Division by zero is not allowed.\")\n",
        "        return None\n",
        "    return result\n",
        "\n",
        "# Example usage\n",
        "numerator = 10\n",
        "denominator = 0\n",
        "result = safe_divide(numerator, denominator)\n",
        "if result is not None:\n",
        "    print(f\"The result is: {result}\")\n",
        "else:\n",
        "    print(\"No result due to division by zero.\")\n"
      ],
      "metadata": {
        "colab": {
          "base_uri": "https://localhost:8080/"
        },
        "id": "Oou5-NkCnGpu",
        "outputId": "b3b05aef-16c4-408e-df58-24f528e35276"
      },
      "execution_count": null,
      "outputs": [
        {
          "output_type": "stream",
          "name": "stdout",
          "text": [
            "Error: Division by zero is not allowed.\n",
            "No result due to division by zero.\n"
          ]
        }
      ]
    },
    {
      "cell_type": "markdown",
      "source": [
        "**6. Write a Python program that logs an error message to a log file when a division by zero exception occurs.**\n",
        "\n",
        "**Ans.**\n",
        "\n",
        "* The logging module is configured to write error messages to a file named error.log. The log format includes the timestamp and the log level.\n",
        "\n",
        "* The safe_divide function attempts to perform division and catches a ZeroDivisionError if it occurs.\n",
        "\n",
        "* When a division by zero is attempted, an error message is logged to the error.log file with details about the values of a and b."
      ],
      "metadata": {
        "id": "FJVoqpyUoFkw"
      }
    },
    {
      "cell_type": "code",
      "source": [
        "import logging\n",
        "\n",
        "# Configure logging to write to a file\n",
        "logging.basicConfig(filename='error.log', level=logging.ERROR,\n",
        "                    format='%(asctime)s %(levelname)s:%(message)s')\n",
        "\n",
        "def safe_divide(a, b):\n",
        "    try:\n",
        "        result = a / b\n",
        "    except ZeroDivisionError:\n",
        "        logging.error(\"Division by zero attempted with a = %s and b = %s\", a, b)\n",
        "        return None\n",
        "    return result\n",
        "\n",
        "# Example usage\n",
        "numerator = 10\n",
        "denominator = 0\n",
        "result = safe_divide(numerator, denominator)\n",
        "if result is not None:\n",
        "    print(f\"The result is: {result}\")\n",
        "else:\n",
        "    print(\"No result due to division by zero.\")\n"
      ],
      "metadata": {
        "colab": {
          "base_uri": "https://localhost:8080/"
        },
        "id": "rZrtr_VCoAN3",
        "outputId": "f9ecddcf-5aa8-445e-c4d5-42887d077708"
      },
      "execution_count": null,
      "outputs": [
        {
          "output_type": "stream",
          "name": "stderr",
          "text": [
            "ERROR:root:Division by zero attempted with a = 10 and b = 0\n"
          ]
        },
        {
          "output_type": "stream",
          "name": "stdout",
          "text": [
            "No result due to division by zero.\n"
          ]
        }
      ]
    },
    {
      "cell_type": "markdown",
      "source": [
        "**7. F How do you log information at different levels (INFO, ERROR, WARNING) in Python using the logging module?**\n",
        "\n",
        "**Ans.**\n",
        "\n",
        "The logging module in Python allows you to log messages at different levels such as DEBUG, INFO, WARNING, ERROR, and CRITICAL. Each level represents the severity of the log messages.\n",
        "\n",
        "* logging.basicConfig() is used to configure the logging system. The level parameter specifies the lowest severity level of messages to be logged. Here, it’s set to DEBUG to log all levels of messages.\n",
        "\n",
        "* format specifies the format of the log messages, including the timestamp, log level, and message.\n",
        "\n",
        "* handlers is a list of handlers to specify where the log messages should be output. In this case, it logs both to a file named app.log and the console."
      ],
      "metadata": {
        "id": "B4pnsJ1-om7s"
      }
    },
    {
      "cell_type": "code",
      "source": [
        "import logging\n",
        "\n",
        "# Configure logging\n",
        "logging.basicConfig(level=logging.DEBUG,\n",
        "                    format='%(asctime)s - %(levelname)s - %(message)s',\n",
        "                    handlers=[\n",
        "                        logging.FileHandler(\"app.log\"),  # Log to a file\n",
        "                        logging.StreamHandler()  # Log to the console\n",
        "                    ])\n",
        "\n",
        "# Log messages at different levels\n",
        "logging.debug(\"This is a debug message\")\n",
        "logging.info(\"This is an info message\")\n",
        "logging.warning(\"This is a warning message\")\n",
        "logging.error(\"This is an error message\")\n",
        "logging.critical(\"This is a critical message\")\n"
      ],
      "metadata": {
        "colab": {
          "base_uri": "https://localhost:8080/"
        },
        "id": "p0RzyLVPokoa",
        "outputId": "84f81868-7b7e-4ca1-cffc-2be7a781afeb"
      },
      "execution_count": null,
      "outputs": [
        {
          "output_type": "stream",
          "name": "stderr",
          "text": [
            "WARNING:root:This is a warning message\n",
            "ERROR:root:This is an error message\n",
            "CRITICAL:root:This is a critical message\n"
          ]
        }
      ]
    },
    {
      "cell_type": "markdown",
      "source": [
        "**8. Write a program to handle a file opening error using exception handling.**\n",
        "\n",
        "**Ans.**\n",
        "\n",
        "* The read_file function takes a file_path argument.\n",
        "\n",
        "* The try block attempts to open the file in read mode and read its content.\n",
        "\n",
        "* If the file does not exist, a FileNotFoundError exception is raised, and the except block handles it by printing an appropriate error message.\n",
        "\n",
        "* If any other I/O error occurs (e.g., permission issues), the IOError exception is caught, and a different error message is printed."
      ],
      "metadata": {
        "id": "XVjCIvtHqtZV"
      }
    },
    {
      "cell_type": "code",
      "source": [
        "def read_file(file_path):\n",
        "    try:\n",
        "        with open(file_path, 'r') as file:\n",
        "            content = file.read()\n",
        "            print(content)\n",
        "    except FileNotFoundError:\n",
        "        print(f\"Error: The file '{file_path}' does not exist.\")\n",
        "    except IOError:\n",
        "        print(f\"Error: An IOError occurred while trying to read the file '{file_path}'.\")\n",
        "\n",
        "# Example usage\n",
        "file_path = 'non_existent_file.txt'\n",
        "read_file(file_path)\n"
      ],
      "metadata": {
        "colab": {
          "base_uri": "https://localhost:8080/"
        },
        "id": "j4cRQtiKqaz_",
        "outputId": "42284c6d-4ef0-42dc-a627-f82b4165d0fd"
      },
      "execution_count": null,
      "outputs": [
        {
          "output_type": "stream",
          "name": "stdout",
          "text": [
            "Error: The file 'non_existent_file.txt' does not exist.\n"
          ]
        }
      ]
    },
    {
      "cell_type": "markdown",
      "source": [
        "**9. How can you read a file line by line and store its content in a list in Python?**\n",
        "\n",
        "**Ans.**\n",
        "\n",
        "* The read_file_lines function takes a file_path argument.\n",
        "\n",
        "* It initializes an empty list called lines to store the file content.\n",
        "\n",
        "* The try block opens the file in read mode and reads each line using a for loop.\n",
        "\n",
        "*Each line is stripped of trailing newline characters using the strip() method and then appended to the lines list.\n",
        "\n",
        "* If the file does not exist, a FileNotFoundError exception is caught and handled.\n",
        "\n",
        "* If any other I/O error occurs, the IOError exception is caught and handled.\n",
        "\n",
        "* The function returns the list of lines."
      ],
      "metadata": {
        "id": "_tJ81QnlsWKG"
      }
    },
    {
      "cell_type": "code",
      "source": [
        "def read_file_lines(file_path):\n",
        "    lines = []\n",
        "    try:\n",
        "        with open(file_path, 'r') as file:\n",
        "            for line in file:\n",
        "                lines.append(line.strip())  # Use strip() to remove trailing newline characters\n",
        "    except FileNotFoundError:\n",
        "        print(f\"Error: The file '{file_path}' does not exist.\")\n",
        "    except IOError:\n",
        "        print(f\"Error: An IOError occurred while trying to read the file '{file_path}'.\")\n",
        "    return lines\n",
        "\n",
        "# Example usage\n",
        "file_path = 'example.txt'\n",
        "file_lines = read_file_lines(file_path)\n",
        "print(file_lines)\n"
      ],
      "metadata": {
        "colab": {
          "base_uri": "https://localhost:8080/"
        },
        "id": "BrZdeZOosU0q",
        "outputId": "34c29efe-4c59-4508-bc57-2eafa4fbde56"
      },
      "execution_count": null,
      "outputs": [
        {
          "output_type": "stream",
          "name": "stdout",
          "text": [
            "['Hello, World!']\n"
          ]
        }
      ]
    },
    {
      "cell_type": "markdown",
      "source": [
        "**10. How can you append data to an existing file in Python?**\n",
        "\n",
        "**Ans.**\n",
        "\n",
        "To append data to an existing file in Python, you can use the open() function with the 'a' mode, which stands for \"append.\" This mode allows you to add new content to the end of the file without overwriting the existing content\n",
        "\n",
        "* The open() function is used with the 'a' mode to open the file named example.txt for appending.\n",
        "\n",
        "* The with statement ensures that the file is properly closed after the block of code is executed, even if an exception occurs.\n",
        "\n",
        "* The write() method appends the string 'This is additional text.\\n' to the file. The \\n ensures that the appended text starts on a new line."
      ],
      "metadata": {
        "id": "mtOCIt-KulUV"
      }
    },
    {
      "cell_type": "code",
      "source": [
        "# Open the file in append mode\n",
        "with open('example.txt', 'a') as file:\n",
        "    # Append a string to the file\n",
        "    file.write('This is additional text.\\n')\n",
        "\n",
        "# The file is automatically closed when the block is exited\n"
      ],
      "metadata": {
        "id": "S6lOYxyXuh2p"
      },
      "execution_count": null,
      "outputs": []
    },
    {
      "cell_type": "code",
      "source": [
        "# Open the file in read mode to check the content\n",
        "with open('example.txt', 'r') as file:\n",
        "    content = file.read()\n",
        "    print(content)\n"
      ],
      "metadata": {
        "colab": {
          "base_uri": "https://localhost:8080/"
        },
        "id": "MMiKPXEGxhwP",
        "outputId": "216a7920-fa8d-43f4-ff21-ed99f00627c6"
      },
      "execution_count": null,
      "outputs": [
        {
          "output_type": "stream",
          "name": "stdout",
          "text": [
            "Hello, World!This is additional text.\n",
            "\n"
          ]
        }
      ]
    },
    {
      "cell_type": "markdown",
      "source": [
        "**11.  Write a Python program that uses a try-except block to handle an error when attempting to access a\n",
        "dictionary key that doesn't exist.**\n",
        "\n",
        "**Ans.**\n",
        "\n"
      ],
      "metadata": {
        "id": "DV6GMA9xkk3X"
      }
    },
    {
      "cell_type": "code",
      "source": [
        "# Define a dictionary\n",
        "my_dict = {\n",
        "    'name': 'Alice',\n",
        "    'age': 25,\n",
        "    'city': 'Nagpur'\n",
        "}\n",
        "\n",
        "# Try to access a key that may not exist\n",
        "try:\n",
        "    value = my_dict['country']\n",
        "    print(f\"The value for 'country' is {value}\")\n",
        "except KeyError:\n",
        "    print(\"Error: The key 'country' does not exist in the dictionary.\")\n",
        "\n",
        "# Continue with other code\n",
        "print(\"The program continues running smoothly.\")\n"
      ],
      "metadata": {
        "id": "YUqs0tIJxmel",
        "colab": {
          "base_uri": "https://localhost:8080/"
        },
        "outputId": "fad919fc-1f81-4893-a5da-8ba6800aa1a0"
      },
      "execution_count": null,
      "outputs": [
        {
          "output_type": "stream",
          "name": "stdout",
          "text": [
            "Error: The key 'country' does not exist in the dictionary.\n",
            "The program continues running smoothly.\n"
          ]
        }
      ]
    },
    {
      "cell_type": "markdown",
      "source": [
        "**12. Write a program that demonstrates using multiple except blocks to handle different types of exceptions.**"
      ],
      "metadata": {
        "id": "QOZhZS8Xk7IT"
      }
    },
    {
      "cell_type": "code",
      "source": [
        "# Define a function that performs various operations\n",
        "def perform_operations():\n",
        "    try:\n",
        "        # Attempt to divide by zero\n",
        "        result = 10 / 0\n",
        "        print(f\"Division result: {result}\")\n",
        "\n",
        "        # Attempt to access an index that doesn't exist\n",
        "        my_list = [1, 2, 3]\n",
        "        element = my_list[5]\n",
        "        print(f\"List element: {element}\")\n",
        "\n",
        "        # Attempt to access a dictionary key that doesn't exist\n",
        "        my_dict = {'name': 'Alice'}\n",
        "        value = my_dict['age']\n",
        "        print(f\"Dictionary value: {value}\")\n",
        "\n",
        "    except ZeroDivisionError:\n",
        "        print(\"Error: Division by zero is not allowed.\")\n",
        "    except IndexError:\n",
        "        print(\"Error: List index out of range.\")\n",
        "    except KeyError:\n",
        "        print(\"Error: Dictionary key not found.\")\n",
        "    except Exception as e:\n",
        "        print(f\"An unexpected error occurred: {e}\")\n",
        "\n",
        "# Call the function to demonstrate exception handling\n",
        "perform_operations()\n",
        "\n",
        "# Continue with other code\n",
        "print(\"The program continues running smoothly.\")\n"
      ],
      "metadata": {
        "colab": {
          "base_uri": "https://localhost:8080/"
        },
        "id": "ud6IsOPXk3a8",
        "outputId": "6d61454a-c459-4ae6-9f2b-4eb961a843bd"
      },
      "execution_count": null,
      "outputs": [
        {
          "output_type": "stream",
          "name": "stdout",
          "text": [
            "Error: Division by zero is not allowed.\n",
            "The program continues running smoothly.\n"
          ]
        }
      ]
    },
    {
      "cell_type": "markdown",
      "source": [
        "**13. How would you check if a file exists before attempting to read it in Python?**\n",
        "\n"
      ],
      "metadata": {
        "id": "jFKbtMy3lIFJ"
      }
    },
    {
      "cell_type": "code",
      "source": [
        "#Using os Module\n",
        "\n",
        "import os\n",
        "\n",
        "file_path = 'example.txt'\n",
        "\n",
        "# Check if the file exists\n",
        "if os.path.exists(file_path):\n",
        "    with open(file_path, 'r') as file:\n",
        "        content = file.read()\n",
        "        print(content)\n",
        "else:\n",
        "    print(f\"Error: The file '{file_path}' does not exist.\")\n"
      ],
      "metadata": {
        "colab": {
          "base_uri": "https://localhost:8080/"
        },
        "id": "8MMZwWUKlFc-",
        "outputId": "3691b471-99e3-413d-d391-ea899f7b6c30"
      },
      "execution_count": null,
      "outputs": [
        {
          "output_type": "stream",
          "name": "stdout",
          "text": [
            "Error: The file 'example.txt' does not exist.\n"
          ]
        }
      ]
    },
    {
      "cell_type": "code",
      "source": [
        "#Using pathlib Module\n",
        "\n",
        "from pathlib import Path\n",
        "\n",
        "file_path = Path('example.txt')\n",
        "\n",
        "# Check if the file exists\n",
        "if file_path.is_file():\n",
        "    with file_path.open('r') as file:\n",
        "        content = file.read()\n",
        "        print(content)\n",
        "else:\n",
        "    print(f\"Error: The file '{file_path}' does not exist.\")\n"
      ],
      "metadata": {
        "colab": {
          "base_uri": "https://localhost:8080/"
        },
        "id": "8Oi_AG3qlrXv",
        "outputId": "b6e7c783-aefc-4506-c4f3-0ffde3f6c5de"
      },
      "execution_count": null,
      "outputs": [
        {
          "output_type": "stream",
          "name": "stdout",
          "text": [
            "Error: The file 'example.txt' does not exist.\n"
          ]
        }
      ]
    },
    {
      "cell_type": "markdown",
      "source": [
        "**14. Write a program that uses the logging module to log both informational and error messages.**\n",
        "\n",
        "**Ans.**\n",
        "\n",
        "**Explanation:**\n",
        "\n",
        "1. **Importingthe logging module:** This module provides a flexible framework for emitting log messages from Python programs.\n",
        "\n",
        "2. **Configuring the logging:**\n",
        "\n",
        "* logging.basicConfig(): Configures the logging to write messages to both a file (app.log) and the console.\n",
        "\n",
        "* level=logging.INFO: Sets the logging level to INFO, meaning it will log informational, warning, and error messages.\n",
        "\n",
        "* format='%(asctime)s - %(levelname)s - %(message)s': Sets the format of the log messages to include the timestamp, log level, and message.\n",
        "\n",
        "3. **Logging informational and error messages:**\n",
        "\n",
        "* logging.info(): Logs an informational message.\n",
        "\n",
        "* logging.error(): Logs an error message.\n",
        "\n",
        "4. **Demonstrating logging within a function:** The perform_operations function includes some operations that log informational messages and intentionally causes an error to log an error message."
      ],
      "metadata": {
        "id": "RFalY9E4l30g"
      }
    },
    {
      "cell_type": "code",
      "source": [
        "import logging\n",
        "\n",
        "# Configure the logging\n",
        "logging.basicConfig(level=logging.INFO,\n",
        "                    format='%(asctime)s - %(levelname)s - %(message)s',\n",
        "                    handlers=[\n",
        "                        logging.FileHandler('app.log'),\n",
        "                        logging.StreamHandler()\n",
        "                    ])\n",
        "\n",
        "# Function to demonstrate logging\n",
        "def perform_operations():\n",
        "    logging.info('Starting operations...')\n",
        "\n",
        "    try:\n",
        "        # Log an informational message\n",
        "        logging.info('Attempting to divide 10 by 2...')\n",
        "        result = 10 / 2\n",
        "        logging.info(f'Result of division: {result}')\n",
        "\n",
        "        # Log another informational message\n",
        "        logging.info('Attempting to access the 2nd element of a list...')\n",
        "        my_list = [1, 2, 3]\n",
        "        element = my_list[1]\n",
        "        logging.info(f'List element: {element}')\n",
        "\n",
        "        # Intentionally cause an error\n",
        "        logging.info('Attempting to divide by zero...')\n",
        "        result = 10 / 0\n",
        "\n",
        "    except ZeroDivisionError:\n",
        "        # Log an error message\n",
        "        logging.error('Error: Division by zero is not allowed.')\n",
        "\n",
        "    except Exception as e:\n",
        "        # Log any other unexpected errors\n",
        "        logging.error(f'An unexpected error occurred: {e}')\n",
        "\n",
        "    logging.info('Operations completed.')\n",
        "\n",
        "# Call the function to demonstrate logging\n",
        "perform_operations()\n"
      ],
      "metadata": {
        "colab": {
          "base_uri": "https://localhost:8080/"
        },
        "id": "Brb33sZKlyxq",
        "outputId": "60767ee3-1e04-4a62-9aaf-acf5efd37b86"
      },
      "execution_count": null,
      "outputs": [
        {
          "output_type": "stream",
          "name": "stderr",
          "text": [
            "ERROR:root:Error: Division by zero is not allowed.\n"
          ]
        }
      ]
    },
    {
      "cell_type": "markdown",
      "source": [
        "**15. Write a Python program that prints the content of a file and handles the case when the file is empty.**\n",
        "\n",
        "**Ans.**\n",
        "\n",
        "**Explanation:**\n",
        "\n",
        "1. **Define the file path:** The file_path variable holds the path to the file you want to read.\n",
        "\n",
        "2. **Try block:**\n",
        "\n",
        "* Open the file using the with open(file_path, 'r') as file: statement.\n",
        "\n",
        "* Read the content of the file using file.read().\n",
        "\n",
        "3. **Check if the file is empty:**\n",
        "\n",
        "* If content is an empty string (i.e., the file is empty), print a message indicating that the file is empty.\n",
        "\n",
        "* Otherwise, print the file's content.\n",
        "\n",
        "4. **Exception Handling:**\n",
        "\n",
        "* Use except FileNotFoundError to handle the case where the file does not exist.\n",
        "\n",
        "* Use a generic except Exception as e block to handle any other unexpected errors."
      ],
      "metadata": {
        "id": "Ex818hFom1U0"
      }
    },
    {
      "cell_type": "code",
      "source": [
        "# Define the file path\n",
        "file_path = 'example.txt'\n",
        "\n",
        "try:\n",
        "    # Open the file and read its content\n",
        "    with open(file_path, 'r') as file:\n",
        "        content = file.read()\n",
        "\n",
        "    # Check if the file is empty\n",
        "    if not content:\n",
        "        print(f\"The file '{file_path}' is empty.\")\n",
        "    else:\n",
        "        print(\"File content:\")\n",
        "        print(content)\n",
        "\n",
        "except FileNotFoundError:\n",
        "    print(f\"Error: The file '{file_path}' does not exist.\")\n",
        "except Exception as e:\n",
        "    print(f\"An unexpected error occurred: {e}\")\n",
        "\n",
        "# Continue with other code\n",
        "print(\"The program continues running smoothly.\")\n"
      ],
      "metadata": {
        "colab": {
          "base_uri": "https://localhost:8080/"
        },
        "id": "kgq2S1cgmxK0",
        "outputId": "7078f3e2-c129-46cc-cc6c-eff189e2c673"
      },
      "execution_count": null,
      "outputs": [
        {
          "output_type": "stream",
          "name": "stdout",
          "text": [
            "Error: The file 'example.txt' does not exist.\n",
            "The program continues running smoothly.\n"
          ]
        }
      ]
    },
    {
      "cell_type": "markdown",
      "source": [
        "**16.  Demonstrate how to use memory profiling to check the memory usage of a small program.**\n",
        "\n",
        "**Ans.**\n",
        "\n",
        "Memory profiling is a valuable technique for understanding how much memory a program uses, and identifying potential memory leaks or inefficient memory usage.\n",
        "\n"
      ],
      "metadata": {
        "id": "s1C8grjd8TqZ"
      }
    },
    {
      "cell_type": "code",
      "source": [
        "pip install memory_profiler"
      ],
      "metadata": {
        "colab": {
          "base_uri": "https://localhost:8080/"
        },
        "id": "Ru4nKSA7_Xcm",
        "outputId": "45c0e9d3-fa3c-49b8-c642-af43b2d2b34c"
      },
      "execution_count": null,
      "outputs": [
        {
          "output_type": "stream",
          "name": "stdout",
          "text": [
            "Collecting memory_profiler\n",
            "  Downloading memory_profiler-0.61.0-py3-none-any.whl.metadata (20 kB)\n",
            "Requirement already satisfied: psutil in /usr/local/lib/python3.10/dist-packages (from memory_profiler) (5.9.5)\n",
            "Downloading memory_profiler-0.61.0-py3-none-any.whl (31 kB)\n",
            "Installing collected packages: memory_profiler\n",
            "Successfully installed memory_profiler-0.61.0\n"
          ]
        }
      ]
    },
    {
      "cell_type": "code",
      "source": [
        "def my_function():\n",
        "    a = [i for i in range(1000000)]\n",
        "    b = [i**2 for i in a]\n",
        "    return sum(b)\n",
        "\n",
        "if __name__ == \"__main__\":\n",
        "    result = my_function()\n",
        "    print(result)\n"
      ],
      "metadata": {
        "colab": {
          "base_uri": "https://localhost:8080/"
        },
        "id": "kNgsmQ5uIda9",
        "outputId": "cf95a83a-ed67-4c51-c285-8e956ac16f45"
      },
      "execution_count": null,
      "outputs": [
        {
          "output_type": "stream",
          "name": "stdout",
          "text": [
            "333332833333500000\n"
          ]
        }
      ]
    },
    {
      "cell_type": "code",
      "source": [
        "from memory_profiler import profile\n",
        "\n",
        "@profile\n",
        "def my_function():\n",
        "    a = [i for i in range(1000000)]\n",
        "    b = [i**2 for i in a]\n",
        "    return sum(b)\n",
        "\n",
        "if __name__ == \"__main__\":\n",
        "    result = my_function()\n",
        "    print(result)\n"
      ],
      "metadata": {
        "colab": {
          "base_uri": "https://localhost:8080/"
        },
        "id": "VZiEpAthIhl4",
        "outputId": "e04c12d2-5563-4f0b-af4a-eadf3c53b850"
      },
      "execution_count": null,
      "outputs": [
        {
          "output_type": "stream",
          "name": "stderr",
          "text": [
            "\n",
            "PYDEV DEBUGGER WARNING:\n",
            "sys.settrace() should not be used when the debugger is being used.\n",
            "This may cause the debugger to stop working correctly.\n",
            "If this is needed, please check: \n",
            "http://pydev.blogspot.com/2007/06/why-cant-pydev-debugger-work-with.html\n",
            "to see how to restore the debug tracing back correctly.\n",
            "Call Location:\n",
            "  File \"/usr/local/lib/python3.10/dist-packages/memory_profiler.py\", line 847, in enable\n",
            "    sys.settrace(self.trace_memory_usage)\n",
            "\n"
          ]
        },
        {
          "output_type": "stream",
          "name": "stdout",
          "text": [
            "ERROR: Could not find file <ipython-input-3-d0e76926e7f5>\n",
            "NOTE: %mprun can only be used on functions defined in physical files, and not in the IPython environment.\n"
          ]
        },
        {
          "output_type": "stream",
          "name": "stderr",
          "text": [
            "\n",
            "PYDEV DEBUGGER WARNING:\n",
            "sys.settrace() should not be used when the debugger is being used.\n",
            "This may cause the debugger to stop working correctly.\n",
            "If this is needed, please check: \n",
            "http://pydev.blogspot.com/2007/06/why-cant-pydev-debugger-work-with.html\n",
            "to see how to restore the debug tracing back correctly.\n",
            "Call Location:\n",
            "  File \"/usr/local/lib/python3.10/dist-packages/memory_profiler.py\", line 850, in disable\n",
            "    sys.settrace(self._original_trace_function)\n",
            "\n"
          ]
        },
        {
          "output_type": "stream",
          "name": "stdout",
          "text": [
            "333332833333500000\n"
          ]
        }
      ]
    },
    {
      "cell_type": "markdown",
      "source": [
        "**17. Write a Python program to create and write a list of numbers to a file, one number per line.**\n",
        "\n",
        "**Ans.**"
      ],
      "metadata": {
        "id": "vQq0jf-v8so4"
      }
    },
    {
      "cell_type": "code",
      "source": [
        "# Define the list of numbers\n",
        "numbers = [1, 2, 3, 4, 5, 6, 7, 8, 9, 10]\n",
        "\n",
        "# Specify the file name\n",
        "file_name = 'numbers.txt'\n",
        "\n",
        "try:\n",
        "    # Open the file in write mode\n",
        "    with open(file_name, 'w') as file:\n",
        "        # Write each number to the file\n",
        "        for number in numbers:\n",
        "            file.write(f\"{number}\\n\")\n",
        "    print(f\"Numbers have been written to {file_name}\")\n",
        "except IOError as e:\n",
        "    print(f\"An error occurred while writing to the file: {e}\")\n",
        "\n"
      ],
      "metadata": {
        "colab": {
          "base_uri": "https://localhost:8080/"
        },
        "id": "Wq_JFE-TJN_f",
        "outputId": "c79a45dc-c8b1-42ac-8d6a-56092ff10b8a"
      },
      "execution_count": null,
      "outputs": [
        {
          "output_type": "stream",
          "name": "stdout",
          "text": [
            "Numbers have been written to numbers.txt\n"
          ]
        }
      ]
    },
    {
      "cell_type": "markdown",
      "source": [
        "**18. How would you implement a basic logging setup that logs to a file with rotation after 1MB?**\n",
        "\n",
        "**Ans.**\n",
        "\n",
        "**Explanation:**\n",
        "\n",
        "1. **Import Modules:**\n",
        "\n",
        "* Import the necessary modules from the logging library.\n",
        "\n",
        "2. **Set Up Logger:**\n",
        "\n",
        "* Create a logger instance using logging.getLogger('my_logger').\n",
        "\n",
        "* Set the logging level to DEBUG so that all levels of log messages (DEBUG, INFO, WARNING, ERROR, CRITICAL) are captured.\n",
        "\n",
        "3. **Create Rotating File Handler:**\n",
        "\n",
        "* Use RotatingFileHandler to create a handler that logs messages to app.log.\n",
        "\n",
        "* maxBytes=1*1024*1024 specifies that the log file will rotate when it reaches 1MB in size.\n",
        "\n",
        "* backupCount=5 specifies that up to 5 backup log files will be kept, with older files being overwritten.\n",
        "\n",
        "4. **Create and Set Formatter:**\n",
        "\n",
        "* Create a Formatter instance to format the log messages.\n",
        "\n",
        "* Set the formatter for the handler using handler.setFormatter(formatter).\n",
        "\n",
        "5. **Add Handler to Logger:**\n",
        "\n",
        "* Add the configured handler to the logger using logger.addHandler(handler).\n",
        "\n",
        "6. **Log Messages:**\n",
        "\n",
        "* Use the logger to log messages of various levels (DEBUG, INFO, WARNING, ERROR, CRITICAL) in a loop. This is just an example to demonstrate the functionality of the rotating file handler."
      ],
      "metadata": {
        "id": "dqn_LjGd8_4b"
      }
    },
    {
      "cell_type": "code",
      "source": [
        "import logging\n",
        "from logging.handlers import RotatingFileHandler\n",
        "\n",
        "# Create a logger\n",
        "logger = logging.getLogger(__name__)\n",
        "logger.setLevel(logging.DEBUG)\n",
        "\n",
        "# Create a rotating file handler\n",
        "handler = RotatingFileHandler(\"app.log\", maxBytes=1_000_000, backupCount=5)\n",
        "handler.setLevel(logging.DEBUG)\n",
        "\n",
        "# Create a formatter and set it for the handler\n",
        "formatter = logging.Formatter(\"%(asctime)s - %(name)s - %(levelname)s - %(message)s\")\n",
        "handler.setFormatter(formatter)\n",
        "\n",
        "# Add the handler to the logger\n",
        "logger.addHandler(handler)\n",
        "\n",
        "# Example usage\n",
        "for i in range(100):\n",
        "    logger.debug(f\"Logging message {i}\")\n",
        "\n",
        "print(\"Logging setup complete. Check app.log for the output.\")\n"
      ],
      "metadata": {
        "id": "x2FxKzBgKSiC",
        "colab": {
          "base_uri": "https://localhost:8080/"
        },
        "outputId": "7f8ac819-e795-4287-c8a0-bf304cb01fd1"
      },
      "execution_count": 3,
      "outputs": [
        {
          "output_type": "stream",
          "name": "stderr",
          "text": [
            "DEBUG:__main__:Logging message 0\n",
            "DEBUG:__main__:Logging message 1\n",
            "DEBUG:__main__:Logging message 2\n",
            "DEBUG:__main__:Logging message 3\n",
            "DEBUG:__main__:Logging message 4\n",
            "DEBUG:__main__:Logging message 5\n",
            "DEBUG:__main__:Logging message 6\n",
            "DEBUG:__main__:Logging message 7\n",
            "DEBUG:__main__:Logging message 8\n",
            "DEBUG:__main__:Logging message 9\n",
            "DEBUG:__main__:Logging message 10\n",
            "DEBUG:__main__:Logging message 11\n",
            "DEBUG:__main__:Logging message 12\n",
            "DEBUG:__main__:Logging message 13\n",
            "DEBUG:__main__:Logging message 14\n",
            "DEBUG:__main__:Logging message 15\n",
            "DEBUG:__main__:Logging message 16\n",
            "DEBUG:__main__:Logging message 17\n",
            "DEBUG:__main__:Logging message 18\n",
            "DEBUG:__main__:Logging message 19\n",
            "DEBUG:__main__:Logging message 20\n",
            "DEBUG:__main__:Logging message 21\n",
            "DEBUG:__main__:Logging message 22\n",
            "DEBUG:__main__:Logging message 23\n",
            "DEBUG:__main__:Logging message 24\n",
            "DEBUG:__main__:Logging message 25\n",
            "DEBUG:__main__:Logging message 26\n",
            "DEBUG:__main__:Logging message 27\n",
            "DEBUG:__main__:Logging message 28\n",
            "DEBUG:__main__:Logging message 29\n",
            "DEBUG:__main__:Logging message 30\n",
            "DEBUG:__main__:Logging message 31\n",
            "DEBUG:__main__:Logging message 32\n",
            "DEBUG:__main__:Logging message 33\n",
            "DEBUG:__main__:Logging message 34\n",
            "DEBUG:__main__:Logging message 35\n",
            "DEBUG:__main__:Logging message 36\n",
            "DEBUG:__main__:Logging message 37\n",
            "DEBUG:__main__:Logging message 38\n",
            "DEBUG:__main__:Logging message 39\n",
            "DEBUG:__main__:Logging message 40\n",
            "DEBUG:__main__:Logging message 41\n",
            "DEBUG:__main__:Logging message 42\n",
            "DEBUG:__main__:Logging message 43\n",
            "DEBUG:__main__:Logging message 44\n",
            "DEBUG:__main__:Logging message 45\n",
            "DEBUG:__main__:Logging message 46\n",
            "DEBUG:__main__:Logging message 47\n",
            "DEBUG:__main__:Logging message 48\n",
            "DEBUG:__main__:Logging message 49\n",
            "DEBUG:__main__:Logging message 50\n",
            "DEBUG:__main__:Logging message 51\n",
            "DEBUG:__main__:Logging message 52\n",
            "DEBUG:__main__:Logging message 53\n",
            "DEBUG:__main__:Logging message 54\n",
            "DEBUG:__main__:Logging message 55\n",
            "DEBUG:__main__:Logging message 56\n",
            "DEBUG:__main__:Logging message 57\n",
            "DEBUG:__main__:Logging message 58\n",
            "DEBUG:__main__:Logging message 59\n",
            "DEBUG:__main__:Logging message 60\n",
            "DEBUG:__main__:Logging message 61\n",
            "DEBUG:__main__:Logging message 62\n",
            "DEBUG:__main__:Logging message 63\n",
            "DEBUG:__main__:Logging message 64\n",
            "DEBUG:__main__:Logging message 65\n",
            "DEBUG:__main__:Logging message 66\n",
            "DEBUG:__main__:Logging message 67\n",
            "DEBUG:__main__:Logging message 68\n",
            "DEBUG:__main__:Logging message 69\n",
            "DEBUG:__main__:Logging message 70\n",
            "DEBUG:__main__:Logging message 71\n",
            "DEBUG:__main__:Logging message 72\n",
            "DEBUG:__main__:Logging message 73\n",
            "DEBUG:__main__:Logging message 74\n",
            "DEBUG:__main__:Logging message 75\n",
            "DEBUG:__main__:Logging message 76\n",
            "DEBUG:__main__:Logging message 77\n",
            "DEBUG:__main__:Logging message 78\n",
            "DEBUG:__main__:Logging message 79\n",
            "DEBUG:__main__:Logging message 80\n",
            "DEBUG:__main__:Logging message 81\n",
            "DEBUG:__main__:Logging message 82\n",
            "DEBUG:__main__:Logging message 83\n",
            "DEBUG:__main__:Logging message 84\n",
            "DEBUG:__main__:Logging message 85\n",
            "DEBUG:__main__:Logging message 86\n",
            "DEBUG:__main__:Logging message 87\n",
            "DEBUG:__main__:Logging message 88\n",
            "DEBUG:__main__:Logging message 89\n",
            "DEBUG:__main__:Logging message 90\n",
            "DEBUG:__main__:Logging message 91\n",
            "DEBUG:__main__:Logging message 92\n",
            "DEBUG:__main__:Logging message 93\n",
            "DEBUG:__main__:Logging message 94\n",
            "DEBUG:__main__:Logging message 95\n",
            "DEBUG:__main__:Logging message 96\n",
            "DEBUG:__main__:Logging message 97\n",
            "DEBUG:__main__:Logging message 98\n",
            "DEBUG:__main__:Logging message 99\n"
          ]
        },
        {
          "output_type": "stream",
          "name": "stdout",
          "text": [
            "Logging setup complete. Check app.log for the output.\n"
          ]
        }
      ]
    },
    {
      "cell_type": "markdown",
      "source": [
        "**19. Write a program that handles both IndexError and KeyError using a try-except block.**\n",
        "\n",
        "**Ans.**"
      ],
      "metadata": {
        "id": "2rh76RMn9LVd"
      }
    },
    {
      "cell_type": "code",
      "source": [
        "def access_elements(data_list, data_dict, list_index, dict_key):\n",
        "    try:\n",
        "        list_value = data_list[list_index]\n",
        "        dict_value = data_dict[dict_key]\n",
        "        print(f\"List value: {list_value}\")\n",
        "        print(f\"Dictionary value: {dict_value}\")\n",
        "    except IndexError as ie:\n",
        "        print(f\"IndexError: {ie} - Index {list_index} is out of range.\")\n",
        "    except KeyError as ke:\n",
        "        print(f\"KeyError: {ke} - Key '{dict_key}' not found in dictionary.\")\n",
        "\n",
        "# Example usage\n",
        "data_list = [1, 2, 3, 4, 5]\n",
        "data_dict = {'a': 10, 'b': 20, 'c': 30}\n",
        "\n",
        "# Trying to access an element that does not exist\n",
        "access_elements(data_list, data_dict, 10, 'b')  # This will trigger IndexError\n",
        "\n",
        "# Trying to access a key that does not exist\n",
        "access_elements(data_list, data_dict, 2, 'x')  # This will trigger KeyError\n",
        "\n",
        "# Trying to access both existing elements\n",
        "access_elements(data_list, data_dict, 2, 'b')  # This will succeed\n"
      ],
      "metadata": {
        "colab": {
          "base_uri": "https://localhost:8080/"
        },
        "id": "asuxp0R8h7V-",
        "outputId": "916fe560-cace-4da8-daa2-034234d91225"
      },
      "execution_count": 4,
      "outputs": [
        {
          "output_type": "stream",
          "name": "stdout",
          "text": [
            "IndexError: list index out of range - Index 10 is out of range.\n",
            "KeyError: 'x' - Key 'x' not found in dictionary.\n",
            "List value: 3\n",
            "Dictionary value: 20\n"
          ]
        }
      ]
    },
    {
      "cell_type": "markdown",
      "source": [
        "**20.How would you open a file and read its contents using a context manager in Python?**\n",
        "\n",
        "**Ans.**\n",
        "\n",
        "Using a context manager to open and read a file in Python is a clean and efficient way to handle file operations. The context manager ensures that the file is properly closed after its contents have been read, even if an error occurs while processing the file."
      ],
      "metadata": {
        "id": "YhMD8xV49fNQ"
      }
    },
    {
      "cell_type": "code",
      "source": [
        "# Define the file path\n",
        "file_path = 'example.txt'\n",
        "\n",
        "# Use a context manager to open and write to the file\n",
        "with open(file_path, 'w') as file:\n",
        "    file.write(\"Hello, world!\\n\")\n",
        "    file.write(\"This is a test file.\\n\")\n",
        "    file.write(\"Using a context manager to handle file operations.\\n\")\n",
        "\n",
        "print(\"File written successfully.\")\n"
      ],
      "metadata": {
        "colab": {
          "base_uri": "https://localhost:8080/"
        },
        "id": "WBcuU6HqiUge",
        "outputId": "30eb4237-ce7e-4886-f76d-03cb7aa7e212"
      },
      "execution_count": 6,
      "outputs": [
        {
          "output_type": "stream",
          "name": "stdout",
          "text": [
            "File written successfully.\n"
          ]
        }
      ]
    },
    {
      "cell_type": "code",
      "source": [
        "# Define the file path\n",
        "file_path = 'example.txt'\n",
        "\n",
        "# Use a context manager to open and read the file\n",
        "with open(file_path, 'r') as file:\n",
        "    contents = file.read()\n",
        "\n",
        "# Print the contents of the file\n",
        "print(contents)\n"
      ],
      "metadata": {
        "colab": {
          "base_uri": "https://localhost:8080/"
        },
        "id": "Bx1Xif2oin0e",
        "outputId": "1e3d4a7e-bb35-4c73-cd8e-50a06d0d149d"
      },
      "execution_count": 7,
      "outputs": [
        {
          "output_type": "stream",
          "name": "stdout",
          "text": [
            "Hello, world!\n",
            "This is a test file.\n",
            "Using a context manager to handle file operations.\n",
            "\n"
          ]
        }
      ]
    },
    {
      "cell_type": "code",
      "source": [
        "# Define the file path\n",
        "file_path = 'example.txt'\n",
        "\n",
        "# Use a context manager to open and write to the file\n",
        "with open(file_path, 'w') as file:\n",
        "    file.write(\"Hello, world!\\n\")\n",
        "    file.write(\"This is a test file.\\n\")\n",
        "    file.write(\"Using a context manager to handle file operations.\\n\")\n",
        "\n",
        "print(\"File written successfully.\")\n",
        "\n",
        "# Use a context manager to open and read the file\n",
        "with open(file_path, 'r') as file:\n",
        "    contents = file.read()\n",
        "\n",
        "# Print the contents of the file\n",
        "print(contents)\n"
      ],
      "metadata": {
        "colab": {
          "base_uri": "https://localhost:8080/"
        },
        "id": "DS2IgHiainnP",
        "outputId": "e3096ee6-120a-430c-fa2a-67371349b76a"
      },
      "execution_count": 8,
      "outputs": [
        {
          "output_type": "stream",
          "name": "stdout",
          "text": [
            "File written successfully.\n",
            "Hello, world!\n",
            "This is a test file.\n",
            "Using a context manager to handle file operations.\n",
            "\n"
          ]
        }
      ]
    },
    {
      "cell_type": "markdown",
      "source": [
        "**21. Write a Python program that reads a file and prints the number of occurrences of a specific word.**\n",
        "\n",
        "**Ans.**"
      ],
      "metadata": {
        "id": "0JYcfLcW9ogW"
      }
    },
    {
      "cell_type": "code",
      "source": [
        "def count_word_occurrences(file_path, target_word):\n",
        "    # Initialize a counter for the word occurrences\n",
        "    word_count = 0\n",
        "\n",
        "    try:\n",
        "        # Open the file using a context manager\n",
        "        with open(file_path, 'r') as file:\n",
        "            # Read the file line by line\n",
        "            for line in file:\n",
        "                # Split each line into words\n",
        "                words = line.split()\n",
        "                # Count the occurrences of the target word in the current line\n",
        "                word_count += words.count(target_word)\n",
        "\n",
        "        print(f\"The word '{target_word}' occurs {word_count} times in the file '{file_path}'.\")\n",
        "\n",
        "    except FileNotFoundError:\n",
        "        print(f\"The file '{file_path}' was not found.\")\n",
        "    except Exception as e:\n",
        "        print(f\"An error occurred: {e}\")\n",
        "\n",
        "# Example usage\n",
        "file_path = 'example.txt'\n",
        "target_word = 'test'\n",
        "\n",
        "count_word_occurrences(file_path, target_word)\n"
      ],
      "metadata": {
        "colab": {
          "base_uri": "https://localhost:8080/"
        },
        "id": "qayuDqsqi4nx",
        "outputId": "5f0c0a19-d845-45a0-cbda-3dbde25f21a6"
      },
      "execution_count": 9,
      "outputs": [
        {
          "output_type": "stream",
          "name": "stdout",
          "text": [
            "The word 'test' occurs 1 times in the file 'example.txt'.\n"
          ]
        }
      ]
    },
    {
      "cell_type": "markdown",
      "source": [
        "**22. How can you check if a file is empty before attempting to read its contents?**\n",
        "\n",
        "**Ans.**\n"
      ],
      "metadata": {
        "id": "LoR7jWo79weS"
      }
    },
    {
      "cell_type": "code",
      "source": [
        "import os\n",
        "\n",
        "def is_file_empty(file_path):\n",
        "    # Check if the file exists\n",
        "    if os.path.exists(file_path):\n",
        "        # Get the size of the file\n",
        "        file_size = os.path.getsize(file_path)\n",
        "        # Check if the file size is zero\n",
        "        if file_size == 0:\n",
        "            print(f\"The file '{file_path}' is empty.\")\n",
        "            return True\n",
        "        else:\n",
        "            print(f\"The file '{file_path}' is not empty.\")\n",
        "            return False\n",
        "    else:\n",
        "        print(f\"The file '{file_path}' does not exist.\")\n",
        "        return False\n",
        "\n",
        "# Example usage\n",
        "file_path = 'example.txt'\n",
        "is_file_empty(file_path)\n"
      ],
      "metadata": {
        "colab": {
          "base_uri": "https://localhost:8080/"
        },
        "id": "G74NlEPNjKZY",
        "outputId": "0fddfb43-3017-44e3-e43c-ba9ebe4bfbbf"
      },
      "execution_count": 10,
      "outputs": [
        {
          "output_type": "stream",
          "name": "stdout",
          "text": [
            "The file 'example.txt' is not empty.\n"
          ]
        },
        {
          "output_type": "execute_result",
          "data": {
            "text/plain": [
              "False"
            ]
          },
          "metadata": {},
          "execution_count": 10
        }
      ]
    },
    {
      "cell_type": "markdown",
      "source": [
        "**23. Write a Python program that writes to a log file when an error occurs during file handling.**"
      ],
      "metadata": {
        "id": "27375rOb95mR"
      }
    },
    {
      "cell_type": "code",
      "source": [
        "import logging\n",
        "\n",
        "# Setup the logging configuration\n",
        "logging.basicConfig(\n",
        "    filename='error.log',\n",
        "    level=logging.ERROR,\n",
        "    format='%(asctime)s - %(levelname)s - %(message)s'\n",
        ")\n",
        "\n",
        "def read_file(file_path):\n",
        "    try:\n",
        "        # Attempt to open and read the file\n",
        "        with open(file_path, 'r') as file:\n",
        "            contents = file.read()\n",
        "        print(contents)\n",
        "    except FileNotFoundError as fnf_error:\n",
        "        # Log FileNotFoundError\n",
        "        logging.error(f\"FileNotFoundError: {fnf_error}\")\n",
        "        print(f\"Error: The file '{file_path}' was not found.\")\n",
        "    except IOError as io_error:\n",
        "        # Log IOError\n",
        "        logging.error(f\"IOError: {io_error}\")\n",
        "        print(f\"Error: An I/O error occurred while handling the file '{file_path}'.\")\n",
        "    except Exception as e:\n",
        "        # Log any other exception\n",
        "        logging.error(f\"Unexpected error: {e}\")\n",
        "        print(f\"Error: An unexpected error occurred: {e}\")\n",
        "\n",
        "# Example usage\n",
        "file_path = 'nonexistent_file.txt'\n",
        "read_file(file_path)\n"
      ],
      "metadata": {
        "id": "93LKxYYMnnp3",
        "colab": {
          "base_uri": "https://localhost:8080/"
        },
        "outputId": "126cc7e1-a43c-42e8-a4ee-efdbb0cce9cc"
      },
      "execution_count": 11,
      "outputs": [
        {
          "output_type": "stream",
          "name": "stderr",
          "text": [
            "ERROR:root:FileNotFoundError: [Errno 2] No such file or directory: 'nonexistent_file.txt'\n"
          ]
        },
        {
          "output_type": "stream",
          "name": "stdout",
          "text": [
            "Error: The file 'nonexistent_file.txt' was not found.\n"
          ]
        }
      ]
    },
    {
      "cell_type": "code",
      "source": [],
      "metadata": {
        "id": "PmgSxJ2MjhMa"
      },
      "execution_count": null,
      "outputs": []
    }
  ]
}